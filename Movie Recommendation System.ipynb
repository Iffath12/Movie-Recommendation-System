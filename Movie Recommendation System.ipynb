{
 "cells": [
  {
   "cell_type": "code",
   "execution_count": 10,
   "id": "00dec9e1-4f70-49b4-8f2d-b3507a2705ff",
   "metadata": {},
   "outputs": [],
   "source": [
    "import numpy as np\n",
    "import pandas as pd\n",
    "import difflib\n",
    "from sklearn.feature_extraction.text import TfidfVectorizer\n",
    "from sklearn.metrics.pairwise import cosine_similarity\n"
   ]
  },
  {
   "cell_type": "code",
   "execution_count": 11,
   "id": "35b3babf-928e-4828-96c5-e35cf1f2f04a",
   "metadata": {},
   "outputs": [],
   "source": [
    "# loading the data from the csv file to apandas data frame\n",
    "movies_data = pd.read_csv ('movies.csv', low_memory=False)\n"
   ]
  },
  {
   "cell_type": "code",
   "execution_count": 12,
   "id": "13c710aa-b3cf-4f1f-b1fc-329fa1961758",
   "metadata": {},
   "outputs": [
    {
     "data": {
      "text/html": [
       "<div>\n",
       "<style scoped>\n",
       "    .dataframe tbody tr th:only-of-type {\n",
       "        vertical-align: middle;\n",
       "    }\n",
       "\n",
       "    .dataframe tbody tr th {\n",
       "        vertical-align: top;\n",
       "    }\n",
       "\n",
       "    .dataframe thead th {\n",
       "        text-align: right;\n",
       "    }\n",
       "</style>\n",
       "<table border=\"1\" class=\"dataframe\">\n",
       "  <thead>\n",
       "    <tr style=\"text-align: right;\">\n",
       "      <th></th>\n",
       "      <th>index</th>\n",
       "      <th>budget</th>\n",
       "      <th>genres</th>\n",
       "      <th>homepage</th>\n",
       "      <th>id</th>\n",
       "      <th>keywords</th>\n",
       "      <th>original_language</th>\n",
       "      <th>original_title</th>\n",
       "      <th>overview</th>\n",
       "      <th>popularity</th>\n",
       "      <th>...</th>\n",
       "      <th>Unnamed: 1255</th>\n",
       "      <th>Unnamed: 1256</th>\n",
       "      <th>Unnamed: 1257</th>\n",
       "      <th>Unnamed: 1258</th>\n",
       "      <th>Unnamed: 1259</th>\n",
       "      <th>Unnamed: 1260</th>\n",
       "      <th>Unnamed: 1261</th>\n",
       "      <th>Unnamed: 1262</th>\n",
       "      <th>Unnamed: 1263</th>\n",
       "      <th>Unnamed: 1264</th>\n",
       "    </tr>\n",
       "  </thead>\n",
       "  <tbody>\n",
       "    <tr>\n",
       "      <th>0</th>\n",
       "      <td>0</td>\n",
       "      <td>237000000</td>\n",
       "      <td>Action Adventure Fantasy Science Fiction</td>\n",
       "      <td>http://www.avatarmovie.com/</td>\n",
       "      <td>19995</td>\n",
       "      <td>culture clash future space war space colony so...</td>\n",
       "      <td>en</td>\n",
       "      <td>Avatar</td>\n",
       "      <td>In the 22nd century, a paraplegic Marine is di...</td>\n",
       "      <td>150.437577</td>\n",
       "      <td>...</td>\n",
       "      <td>NaN</td>\n",
       "      <td>NaN</td>\n",
       "      <td>NaN</td>\n",
       "      <td>NaN</td>\n",
       "      <td>NaN</td>\n",
       "      <td>NaN</td>\n",
       "      <td>NaN</td>\n",
       "      <td>NaN</td>\n",
       "      <td>NaN</td>\n",
       "      <td>NaN</td>\n",
       "    </tr>\n",
       "    <tr>\n",
       "      <th>1</th>\n",
       "      <td>1</td>\n",
       "      <td>300000000</td>\n",
       "      <td>Adventure Fantasy Action</td>\n",
       "      <td>http://disney.go.com/disneypictures/pirates/</td>\n",
       "      <td>285</td>\n",
       "      <td>ocean drug abuse exotic island east india trad...</td>\n",
       "      <td>en</td>\n",
       "      <td>Pirates of the Caribbean: At World's End</td>\n",
       "      <td>Captain Barbossa, long believed to be dead, ha...</td>\n",
       "      <td>139.082615</td>\n",
       "      <td>...</td>\n",
       "      <td>NaN</td>\n",
       "      <td>NaN</td>\n",
       "      <td>NaN</td>\n",
       "      <td>NaN</td>\n",
       "      <td>NaN</td>\n",
       "      <td>NaN</td>\n",
       "      <td>NaN</td>\n",
       "      <td>NaN</td>\n",
       "      <td>NaN</td>\n",
       "      <td>NaN</td>\n",
       "    </tr>\n",
       "    <tr>\n",
       "      <th>2</th>\n",
       "      <td>2</td>\n",
       "      <td>245000000</td>\n",
       "      <td>Action Adventure Crime</td>\n",
       "      <td>http://www.sonypictures.com/movies/spectre/</td>\n",
       "      <td>206647</td>\n",
       "      <td>spy based on novel secret agent sequel mi6</td>\n",
       "      <td>en</td>\n",
       "      <td>Spectre</td>\n",
       "      <td>A cryptic message from Bond’s past sends him o...</td>\n",
       "      <td>107.376788</td>\n",
       "      <td>...</td>\n",
       "      <td>NaN</td>\n",
       "      <td>NaN</td>\n",
       "      <td>NaN</td>\n",
       "      <td>NaN</td>\n",
       "      <td>NaN</td>\n",
       "      <td>NaN</td>\n",
       "      <td>NaN</td>\n",
       "      <td>NaN</td>\n",
       "      <td>NaN</td>\n",
       "      <td>NaN</td>\n",
       "    </tr>\n",
       "    <tr>\n",
       "      <th>3</th>\n",
       "      <td>3</td>\n",
       "      <td>250000000</td>\n",
       "      <td>Action Crime Drama Thriller</td>\n",
       "      <td>http://www.thedarkknightrises.com/</td>\n",
       "      <td>49026</td>\n",
       "      <td>dc comics crime fighter terrorist secret ident...</td>\n",
       "      <td>en</td>\n",
       "      <td>The Dark Knight Rises</td>\n",
       "      <td>Following the death of District Attorney Harve...</td>\n",
       "      <td>112.31295</td>\n",
       "      <td>...</td>\n",
       "      <td>NaN</td>\n",
       "      <td>NaN</td>\n",
       "      <td>NaN</td>\n",
       "      <td>NaN</td>\n",
       "      <td>NaN</td>\n",
       "      <td>NaN</td>\n",
       "      <td>NaN</td>\n",
       "      <td>NaN</td>\n",
       "      <td>NaN</td>\n",
       "      <td>NaN</td>\n",
       "    </tr>\n",
       "    <tr>\n",
       "      <th>4</th>\n",
       "      <td>4</td>\n",
       "      <td>260000000</td>\n",
       "      <td>Action Adventure Science Fiction</td>\n",
       "      <td>http://movies.disney.com/john-carter</td>\n",
       "      <td>49529</td>\n",
       "      <td>based on novel mars medallion space travel pri...</td>\n",
       "      <td>en</td>\n",
       "      <td>John Carter</td>\n",
       "      <td>John Carter is a war-weary, former military ca...</td>\n",
       "      <td>43.926995</td>\n",
       "      <td>...</td>\n",
       "      <td>NaN</td>\n",
       "      <td>NaN</td>\n",
       "      <td>NaN</td>\n",
       "      <td>NaN</td>\n",
       "      <td>NaN</td>\n",
       "      <td>NaN</td>\n",
       "      <td>NaN</td>\n",
       "      <td>NaN</td>\n",
       "      <td>NaN</td>\n",
       "      <td>NaN</td>\n",
       "    </tr>\n",
       "  </tbody>\n",
       "</table>\n",
       "<p>5 rows × 1265 columns</p>\n",
       "</div>"
      ],
      "text/plain": [
       "  index     budget                                    genres  \\\n",
       "0     0  237000000  Action Adventure Fantasy Science Fiction   \n",
       "1     1  300000000                  Adventure Fantasy Action   \n",
       "2     2  245000000                    Action Adventure Crime   \n",
       "3     3  250000000               Action Crime Drama Thriller   \n",
       "4     4  260000000          Action Adventure Science Fiction   \n",
       "\n",
       "                                       homepage      id  \\\n",
       "0                   http://www.avatarmovie.com/   19995   \n",
       "1  http://disney.go.com/disneypictures/pirates/     285   \n",
       "2   http://www.sonypictures.com/movies/spectre/  206647   \n",
       "3            http://www.thedarkknightrises.com/   49026   \n",
       "4          http://movies.disney.com/john-carter   49529   \n",
       "\n",
       "                                            keywords original_language  \\\n",
       "0  culture clash future space war space colony so...                en   \n",
       "1  ocean drug abuse exotic island east india trad...                en   \n",
       "2         spy based on novel secret agent sequel mi6                en   \n",
       "3  dc comics crime fighter terrorist secret ident...                en   \n",
       "4  based on novel mars medallion space travel pri...                en   \n",
       "\n",
       "                             original_title  \\\n",
       "0                                    Avatar   \n",
       "1  Pirates of the Caribbean: At World's End   \n",
       "2                                   Spectre   \n",
       "3                     The Dark Knight Rises   \n",
       "4                               John Carter   \n",
       "\n",
       "                                            overview  popularity  ...  \\\n",
       "0  In the 22nd century, a paraplegic Marine is di...  150.437577  ...   \n",
       "1  Captain Barbossa, long believed to be dead, ha...  139.082615  ...   \n",
       "2  A cryptic message from Bond’s past sends him o...  107.376788  ...   \n",
       "3  Following the death of District Attorney Harve...   112.31295  ...   \n",
       "4  John Carter is a war-weary, former military ca...   43.926995  ...   \n",
       "\n",
       "  Unnamed: 1255 Unnamed: 1256 Unnamed: 1257 Unnamed: 1258 Unnamed: 1259  \\\n",
       "0           NaN           NaN           NaN           NaN           NaN   \n",
       "1           NaN           NaN           NaN           NaN           NaN   \n",
       "2           NaN           NaN           NaN           NaN           NaN   \n",
       "3           NaN           NaN           NaN           NaN           NaN   \n",
       "4           NaN           NaN           NaN           NaN           NaN   \n",
       "\n",
       "  Unnamed: 1260 Unnamed: 1261 Unnamed: 1262 Unnamed: 1263 Unnamed: 1264  \n",
       "0           NaN           NaN           NaN           NaN           NaN  \n",
       "1           NaN           NaN           NaN           NaN           NaN  \n",
       "2           NaN           NaN           NaN           NaN           NaN  \n",
       "3           NaN           NaN           NaN           NaN           NaN  \n",
       "4           NaN           NaN           NaN           NaN           NaN  \n",
       "\n",
       "[5 rows x 1265 columns]"
      ]
     },
     "execution_count": 12,
     "metadata": {},
     "output_type": "execute_result"
    }
   ],
   "source": [
    "#printing the 5 rows of dataset\n",
    "movies_data.head ()\n"
   ]
  },
  {
   "cell_type": "code",
   "execution_count": 13,
   "id": "4ac3a975-6407-43a3-bfe5-f70bb9623028",
   "metadata": {},
   "outputs": [
    {
     "name": "stdout",
     "output_type": "stream",
     "text": [
      "['genres', 'keywords', 'tagline', 'cast', 'director']\n"
     ]
    }
   ],
   "source": [
    "# number of rows and columns in the data frame\n",
    "movies_data.shape\n",
    "\n",
    "# selecting the relevant features for recommendation\n",
    "selected_features = ['genres','keywords','tagline','cast','director']\n",
    "print (selected_features)\n"
   ]
  },
  {
   "cell_type": "code",
   "execution_count": 14,
   "id": "9a0759e6-c381-49c4-a065-f8bc7fc39889",
   "metadata": {},
   "outputs": [],
   "source": [
    "# replacing the null values with null string\n",
    "for feature in selected_features:\n",
    "  movies_data [feature] = movies_data [feature].fillna ('')\n"
   ]
  },
  {
   "cell_type": "code",
   "execution_count": 15,
   "id": "ed533177-4434-4b40-b82d-189a17178014",
   "metadata": {},
   "outputs": [],
   "source": [
    "# combining all the 5 selected features\n",
    "combined_features = movies_data['genres']+' '+movies_data['keywords']+' '+movies_data['tagline']+' '+movies_data['cast']+' '+movies_data['director']\n",
    "\n",
    "# converting the text data to feature vectors\n",
    "vectorizer = TfidfVectorizer()\n",
    "feature_vectors = vectorizer.fit_transform (combined_features)\n"
   ]
  },
  {
   "cell_type": "code",
   "execution_count": 16,
   "id": "96b47a55-f265-462f-8b11-3d1de7c40caf",
   "metadata": {},
   "outputs": [
    {
     "name": "stdout",
     "output_type": "stream",
     "text": [
      "(4815, 4815)\n"
     ]
    }
   ],
   "source": [
    "# getting the similarity scores using cosine similarity\n",
    "similarity = cosine_similarity(feature_vectors)\n",
    "print(similarity.shape)\n"
   ]
  },
  {
   "cell_type": "code",
   "execution_count": 17,
   "id": "5f4de31c-2b11-4302-ab46-ff262b0d9b78",
   "metadata": {},
   "outputs": [
    {
     "name": "stdout",
     "output_type": "stream",
     "text": [
      "4815\n"
     ]
    }
   ],
   "source": [
    "# creating a list with all the movie names given in the dataset\n",
    "list_of_all_titles = movies_data['title'].tolist()\n",
    "print(len(list_of_all_titles))\n"
   ]
  },
  {
   "cell_type": "code",
   "execution_count": 19,
   "id": "565073ad-a381-4570-8bd9-7311eb090287",
   "metadata": {},
   "outputs": [
    {
     "name": "stdin",
     "output_type": "stream",
     "text": [
      " Enter your favourite movie name :  bat man\n"
     ]
    }
   ],
   "source": [
    "movie_name = input(' Enter your favourite movie name : ')"
   ]
  },
  {
   "cell_type": "code",
   "execution_count": 20,
   "id": "af26473e-6dcc-4bba-87e5-3e4064e83e4b",
   "metadata": {},
   "outputs": [
    {
     "name": "stdout",
     "output_type": "stream",
     "text": [
      "['Batman', 'Batman', 'Catwoman']\n"
     ]
    }
   ],
   "source": [
    "list_of_all_titles = [str(title) for title in list_of_all_titles]\n",
    "\n",
    "# finding the close match for the movie name given by the user\n",
    "find_close_match = difflib.get_close_matches(movie_name, list_of_all_titles,)\n",
    "print(find_close_match)\n",
    "close_match = find_close_match[0]\n"
   ]
  },
  {
   "cell_type": "markdown",
   "id": "902de266-89f0-4ddf-a824-c738127f1de1",
   "metadata": {},
   "source": [
    "# finding the index of the movie with title\n",
    "index_of_the_movie = movies_data[movies_data.title == close_match]['index'].values[0]\n",
    "print(index_of_the_movie)\n",
    "\n",
    "# getting a list of similar movies\n",
    "if 0 <= index_of_the_movie < len(similarity):\n",
    "    similarity_score = list(enumerate(similarity[index_of_the_movie]))\n",
    "else:\n",
    "    similarity_score = list(enumerate(similarity[index_of_the_movie])) \n",
    "\n",
    "len(similarity_score)\n"
   ]
  },
  {
   "cell_type": "code",
   "execution_count": 21,
   "id": "e5405f5a-dc3d-49a5-be1d-f8a64883e915",
   "metadata": {},
   "outputs": [
    {
     "name": "stdout",
     "output_type": "stream",
     "text": [
      "1359\n",
      "4815\n"
     ]
    }
   ],
   "source": [
    "# Finding the index of the movie with title close_match\n",
    "try:\n",
    "    # Retrieve and convert to int if necessary\n",
    "    index_of_the_movie = int(movies_data[movies_data.title == close_match]['index'].values[0])\n",
    "    print(index_of_the_movie)\n",
    "except IndexError:\n",
    "    print(f\"Error: No movie found with the title '{close_match}'.\")\n",
    "    index_of_the_movie = None  # Set to None or handle as needed\n",
    "except ValueError:\n",
    "    print(f\"Error: The retrieved index for '{close_match}' could not be converted to an integer.\")\n",
    "    index_of_the_movie = None\n",
    "\n",
    "# Getting a list of similar movies if index_of_the_movie is valid\n",
    "if index_of_the_movie is not None:\n",
    "    if 0 <= index_of_the_movie < len(similarity):\n",
    "        # Ensure similarity[index_of_the_movie] is a list or iterable\n",
    "        similarity_score = list(enumerate(similarity[index_of_the_movie]))\n",
    "    else:\n",
    "        print(\"Error: index_of_the_movie is out of range for similarity.\")\n",
    "        similarity_score = []\n",
    "else:\n",
    "    similarity_score = []\n",
    "\n",
    "# Print the length of similarity_score\n",
    "print(len(similarity_score))"
   ]
  },
  {
   "cell_type": "code",
   "execution_count": 22,
   "id": "ce545469-47ea-4140-9f4b-5739e312acff",
   "metadata": {},
   "outputs": [],
   "source": [
    "# sorting the movies based on their similarity score\n",
    "sorted_similar_movies = sorted(similarity_score, key = lambda x:x[1], reverse = True)\n",
    "\n",
    "# print the name of similar movies based on the index\n",
    "i = 1\n",
    "for movie in sorted_similar_movies:\n",
    "  index = movie[0]\n",
    "  title_from_index = movies_data[movies_data.index==index]['title'].values[0]\n"
   ]
  },
  {
   "cell_type": "code",
   "execution_count": 23,
   "id": "35d8f980-439c-46ab-ab24-92a50ab3bd0f",
   "metadata": {},
   "outputs": [
    {
     "name": "stdin",
     "output_type": "stream",
     "text": [
      "Enter your favourite movie name:  batman\n"
     ]
    },
    {
     "name": "stdout",
     "output_type": "stream",
     "text": [
      "Movies suggested for you:\n",
      "\n",
      "1. A Man Apart\n",
      "2. Love Jones\n",
      "3. 2016: Obama's America\n",
      "4. The Postman\n",
      "5. Live Free or Die Hard\n",
      "6. Riddick\n",
      "7. Inchon\n",
      "8. Furious 7\n",
      "9. Death Sentence\n",
      "10. Six Days Seven Nights\n",
      "11. The Inkwell\n",
      "12. Dreamcatcher\n",
      "13. Menace II Society\n",
      "14. Four Brothers\n",
      "15. Cold Mountain\n",
      "16. Torn Curtain\n",
      "17. The Upside of Anger\n",
      "18. Rob Roy\n",
      "19. I Am Number Four\n"
     ]
    }
   ],
   "source": [
    "# Movie Recommendation System\n",
    "movie_name = input('Enter your favourite movie name: ')\n",
    "list_of_all_titles = movies_data['title'].tolist()\n",
    "list_of_all_titles = [str(title) for title in list_of_all_titles]\n",
    "\n",
    "# Find a close match\n",
    "find_close_match = difflib.get_close_matches(movie_name, list_of_all_titles)\n",
    "if not find_close_match:\n",
    "    print(\"No close match found.\")\n",
    "    index_of_the_movie = None\n",
    "else:\n",
    "    close_match = find_close_match[0]\n",
    "\n",
    "    # Try to get the index of the movie\n",
    "    try:\n",
    "        index_of_the_movie = int(movies_data[movies_data.title == close_match]['index'].values[0])\n",
    "    except IndexError:\n",
    "        print(f\"Error: No movie found with the title '{close_match}'.\")\n",
    "        index_of_the_movie = None\n",
    "    except ValueError:\n",
    "        print(f\"Error: The retrieved index for '{close_match}' could not be converted to an integer.\")\n",
    "        index_of_the_movie = None\n",
    "\n",
    "# Getting a list of similar movies if index_of_the_movie is valid\n",
    "if index_of_the_movie is not None:\n",
    "    if 0 <= index_of_the_movie < len(similarity):\n",
    "        # Ensure similarity[index_of_the_movie] is a list or iterable\n",
    "        similarity_score = list(enumerate(similarity[index_of_the_movie]))\n",
    "    else:\n",
    "        print(\"Error: index_of_the_movie is out of range for similarity.\")\n",
    "        similarity_score = []\n",
    "else:\n",
    "    similarity_score = []\n",
    "\n",
    "# Sorting and printing suggested movies\n",
    "sorted_similar_movies = sorted(similarity_score, key=lambda x: x[1], reverse=True)\n",
    "print('Movies suggested for you:\\n')\n",
    "i = 1\n",
    "for movie in sorted_similar_movies:\n",
    "    index = movie[0]\n",
    "    title_from_index = movies_data[movies_data.index == index]['title'].values[0]\n",
    "    if i < 20:\n",
    "        print(f\"{i}. {title_from_index}\")\n",
    "        i += 1"
   ]
  },
  {
   "cell_type": "code",
   "execution_count": null,
   "id": "d310f7c3-c227-4a0f-9f37-8bac9d1ab962",
   "metadata": {},
   "outputs": [],
   "source": []
  },
  {
   "cell_type": "code",
   "execution_count": null,
   "id": "6f05622d-f964-4f8f-aeb0-ac2922401ed2",
   "metadata": {},
   "outputs": [],
   "source": []
  }
 ],
 "metadata": {
  "kernelspec": {
   "display_name": "Python 3 (ipykernel)",
   "language": "python",
   "name": "python3"
  },
  "language_info": {
   "codemirror_mode": {
    "name": "ipython",
    "version": 3
   },
   "file_extension": ".py",
   "mimetype": "text/x-python",
   "name": "python",
   "nbconvert_exporter": "python",
   "pygments_lexer": "ipython3",
   "version": "3.13.0"
  }
 },
 "nbformat": 4,
 "nbformat_minor": 5
}
